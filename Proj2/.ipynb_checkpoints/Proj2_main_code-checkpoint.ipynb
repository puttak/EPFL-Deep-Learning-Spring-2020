{
 "cells": [
  {
   "cell_type": "markdown",
   "metadata": {},
   "source": [
    "# Project 2"
   ]
  },
  {
   "cell_type": "markdown",
   "metadata": {},
   "source": [
    "## Imports And Settings"
   ]
  },
  {
   "cell_type": "code",
   "execution_count": 1,
   "metadata": {},
   "outputs": [],
   "source": [
    "#Imports\n",
    "import torch\n",
    "import math\n",
    "import matplotlib.pyplot as plt"
   ]
  },
  {
   "cell_type": "code",
   "execution_count": 2,
   "metadata": {},
   "outputs": [
    {
     "data": {
      "text/plain": [
       "<torch.autograd.grad_mode.set_grad_enabled at 0x1d1cf676160>"
      ]
     },
     "execution_count": 2,
     "metadata": {},
     "output_type": "execute_result"
    }
   ],
   "source": [
    "#Deactivating autograd\n",
    "torch.set_grad_enabled(False)"
   ]
  },
  {
   "cell_type": "markdown",
   "metadata": {},
   "source": [
    "## Layer Modules"
   ]
  },
  {
   "cell_type": "code",
   "execution_count": 3,
   "metadata": {},
   "outputs": [],
   "source": [
    "#Fully Connected Layer\n",
    "class  Linear:\n",
    "    \n",
    "    def __init__(self,input_size,output_size,gamma=10**-3):\n",
    "        \n",
    "        #Initializing the layer's weights\n",
    "        self.W=torch.empty(output_size,input_size).normal_()\n",
    "        \n",
    "        #Initializing the layer's biases\n",
    "        self.b=torch.empty(output_size,1).normal_()\n",
    "        \n",
    "        #Initializing the learning rate\n",
    "        self.gamma=gamma\n",
    "        \n",
    "        #Initializing the gradients (for param())\n",
    "        self.gradW=None\n",
    "        self.gradb=None\n",
    "    \n",
    "    def  forward(self , x):\n",
    "        \n",
    "        #Memorizing the input for the backpropagation\n",
    "        self.x_old=x\n",
    "        \n",
    "        return torch.mm(self.W,x)+self.b\n",
    "        \n",
    "    def backward(self , grads):\n",
    "        \n",
    "        #Computing the gradient of the loss with respect to W, b and x\n",
    "        self.gradW=torch.mm(grads,self.x_old.T)\n",
    "        self.gradb=torch.sum(grads,axis=1).unsqueeze(1)\n",
    "        gradx=torch.mm(self.W.T,grads)\n",
    "        \n",
    "        #Updating the weights and biases (SGD)\n",
    "        self.W=self.W-self.gamma*self.gradW\n",
    "        self.b=self.b-self.gamma*self.gradb\n",
    "        \n",
    "        return gradx\n",
    "        \n",
    "    def  param(self):\n",
    "        \n",
    "        return  [(self.W,self.gradW),(self.b,self.gradb)]"
   ]
  },
  {
   "cell_type": "code",
   "execution_count": 4,
   "metadata": {},
   "outputs": [],
   "source": [
    "#Concatenation Of Layers\n",
    "class  Sequential:\n",
    "    \n",
    "    def __init__(self,layers):\n",
    "        \n",
    "        #Getting the sequence of layers\n",
    "        self.layers=layers\n",
    "    \n",
    "    def  forward(self , x):\n",
    "        \n",
    "        #Input of the next layer (x for the first)\n",
    "        layer_input=x\n",
    "        \n",
    "        #Forwarding the input through each layer in sequence\n",
    "        for layer in self.layers:\n",
    "            layer_input=layer.forward(layer_input)\n",
    "        \n",
    "        #Returning the output of the last layer\n",
    "        return layer_input\n",
    "        \n",
    "    def backward(self , gradwrtoutput):\n",
    "        \n",
    "        #Gradient with respect to the output of the last traversed layer (gradwrtoutput at the beginning)\n",
    "        grad=gradwrtoutput\n",
    "        \n",
    "        #Backward propagating the gradient from the last layer to the first\n",
    "        for layer in reversed(self.layers):\n",
    "            grad=layer.backward(grad)\n",
    "            \n",
    "        #Returning the gradient of the first layer\n",
    "        return grad\n",
    "    \n",
    "    def  param(self):\n",
    "        \n",
    "        params=[]\n",
    "        \n",
    "        #Getting the param list of each layer\n",
    "        for layer in self.layers:\n",
    "            \n",
    "            for param in layer.param():\n",
    "                \n",
    "                params.append(param)\n",
    "        \n",
    "        return  params"
   ]
  },
  {
   "cell_type": "markdown",
   "metadata": {},
   "source": [
    "## Activation Modules"
   ]
  },
  {
   "cell_type": "code",
   "execution_count": 5,
   "metadata": {},
   "outputs": [],
   "source": [
    "#Rectifier Activation Module\n",
    "class  ReLU:\n",
    "    \n",
    "    def  forward(self , s):\n",
    "        \n",
    "        #Saving s for the backward\n",
    "        self.s=s\n",
    "        \n",
    "        #Setting all negative values to 0\n",
    "        s[s<0]=0\n",
    "        \n",
    "        return s\n",
    "        \n",
    "    def backward(self , gradx):\n",
    "        \n",
    "        #Computing the gradient with respect to s\n",
    "        grads=gradx*(self.s>0) #∇s max(s,0) = s>0 \n",
    "        \n",
    "        return grads\n",
    "        \n",
    "    def  param(self):\n",
    "        return  []"
   ]
  },
  {
   "cell_type": "code",
   "execution_count": 6,
   "metadata": {},
   "outputs": [],
   "source": [
    "#Hyperbolic Tangent Activation Module\n",
    "class  Tanh:\n",
    "        \n",
    "    \n",
    "    def  forward(self , s):\n",
    "        \n",
    "        #Saving s for the backward\n",
    "        self.s=s\n",
    "        \n",
    "        return 1-2/(1+math.exp(1)**(2*s))\n",
    "        \n",
    "    def backward(self , gradx):\n",
    "        \n",
    "        #Computing the gradient with respect to s\n",
    "        grads=gradx*(4/(math.exp(1)**(self.s)+math.exp(1)**(-self.s))) #∇s tanh(s) = 4/(e^s+e^-s)\n",
    "        \n",
    "        return grads\n",
    "        \n",
    "    def  param(self):\n",
    "        return  []"
   ]
  },
  {
   "cell_type": "code",
   "execution_count": 7,
   "metadata": {},
   "outputs": [],
   "source": [
    "#Sigmoid Activation Module\n",
    "class  sigmoid:\n",
    "        \n",
    "    \n",
    "    def  forward(self , s):\n",
    "        \n",
    "        #Saving s for the backward\n",
    "        self.s=s\n",
    "        \n",
    "        return 1/(1+math.exp(1)**(-self.s))\n",
    "        \n",
    "    def backward(self , gradx):\n",
    "        \n",
    "        #Computing the gradient with respect to s\n",
    "        #∇s sigmoid(s) = sigmoid(s)*(1-sigmoid(s))\n",
    "        grads=gradx*((1/(1+math.exp(1)**(-self.s)))*(1-1/(1+math.exp(1)**(-self.s)))) \n",
    "        \n",
    "        return grads\n",
    "        \n",
    "    def  param(self):\n",
    "        return  []"
   ]
  },
  {
   "cell_type": "markdown",
   "metadata": {},
   "source": [
    "## Loss Modules"
   ]
  },
  {
   "cell_type": "code",
   "execution_count": 8,
   "metadata": {},
   "outputs": [],
   "source": [
    "#Mean Squared Error Loss Module\n",
    "class  LossMSE:\n",
    "    \n",
    "    def  forward(self , s, y):\n",
    "        \n",
    "        #Saving both s and y for the backpropagation\n",
    "        self.s=s\n",
    "        self.y=y\n",
    "        return torch.mean((s-y)**2)\n",
    "        \n",
    "    def backward(self):\n",
    "        \n",
    "        #Computing the gradient of the loss with respect to s\n",
    "        self.grads=2*(self.s-self.y)/(self.s.shape[1]*self.s.shape[0]) #∇s MSE(s,y)=2*(s-y)/N\n",
    "        return self.grads\n",
    "        \n",
    "    def  param(self):\n",
    "        return  []"
   ]
  },
  {
   "cell_type": "code",
   "execution_count": 9,
   "metadata": {},
   "outputs": [],
   "source": [
    "#Mean Absolute Error Loss Module\n",
    "class  LossMAE:\n",
    "    \n",
    "    def  forward(self , s, y):\n",
    "        \n",
    "        #Saving both s and y for the backpropagation\n",
    "        self.s=s\n",
    "        self.y=y\n",
    "        \n",
    "        #Computing the difference between the actual output and the target output\n",
    "        delta=s-y\n",
    "        \n",
    "        #Inverting the signs when the value is negative to get the absolute values\n",
    "        delta[delta<0]=-delta[delta<0]\n",
    "        \n",
    "        return torch.mean(delta)\n",
    "        \n",
    "    def backward(self):\n",
    "        \n",
    "        #Computing the difference between the actual output and the target output\n",
    "        delta=self.s-self.y\n",
    "        \n",
    "        #Computing the gradient of the loss with respect to s\n",
    "        self.grads=((delta<0)*(-1.)+(delta>=0))/(self.s.shape[1]*self.s.shape[0]) #∇s MAE(s,y)=sign(s-y)/N\n",
    "        return self.grads\n",
    "        \n",
    "    def  param(self):\n",
    "        \n",
    "        return  []"
   ]
  },
  {
   "cell_type": "markdown",
   "metadata": {},
   "source": [
    "## Test Architecture"
   ]
  },
  {
   "cell_type": "markdown",
   "metadata": {},
   "source": [
    "### Main Run"
   ]
  },
  {
   "cell_type": "code",
   "execution_count": 10,
   "metadata": {},
   "outputs": [],
   "source": [
    "#Helper function generating 'size' inputs and targets\n",
    "def dataset_generator(size):\n",
    "    input_=torch.rand((size,2))\n",
    "    target=(torch.sum((input_-0.5)**2,axis=1)*(2*math.pi)<1)\n",
    "    return input_,torch.stack([~target,target]).T*1"
   ]
  },
  {
   "cell_type": "code",
   "execution_count": 11,
   "metadata": {},
   "outputs": [],
   "source": [
    "#Helper function computing the accuracy of our predictions\n",
    "def accuracy(pred,target):\n",
    "    return 1.*torch.sum((torch.max(pred,0)[1])==(torch.max(target,0)[1]))/target.shape[1]"
   ]
  },
  {
   "cell_type": "code",
   "execution_count": 12,
   "metadata": {},
   "outputs": [
    {
     "name": "stdout",
     "output_type": "stream",
     "text": [
      "The average training loss at iteration 4000 is 0.010211390717857994\n",
      "The final training loss is  tensor(0.0108)\n",
      "The test loss is  tensor(0.0078)\n"
     ]
    }
   ],
   "source": [
    "#Setting a seed for reproducibility\n",
    "torch.manual_seed(0) \n",
    "\n",
    "#Useful constants\n",
    "input_size=1000\n",
    "batch_size=25 #Good tradoff, gives high convergence speed\n",
    "epochs=4000 #High number, gives enough time for the model to converge\n",
    "gamma=0.01 # Learning rate shared by all 'Linear' modules\n",
    "plot_data=torch.empty(4,epochs) #Used to collect data for plotting purposes\n",
    "\n",
    "#Generating our train and test datasets\n",
    "train_input, train_targets = dataset_generator(input_size)\n",
    "test_input, test_targets = dataset_generator(input_size)\n",
    "\n",
    "#Initializing our model\n",
    "model=Sequential([Linear(2,25,gamma),Tanh(),Linear(25,25,gamma),Tanh(),Linear(25,25,gamma),Tanh(),Linear(25,2,gamma)])\n",
    "\n",
    "#Training our model\n",
    "for epoch in range(epochs):\n",
    "    \n",
    "    #Initializing a loss accumulator to compure the average loss of an SGD iteration\n",
    "    avg_loss=0\n",
    "    \n",
    "    #Running an SGD iteration\n",
    "    for b in range(math.ceil(input_size/batch_size)):\n",
    "        \n",
    "        #Computing the lower and upper indices corresponding to the current batch\n",
    "        low=b*batch_size\n",
    "        high=min((b+1)*batch_size,input_size)\n",
    "        \n",
    "        #Getting the input and target batches\n",
    "        input_batch=train_input[low:high].T\n",
    "        target_batch=train_targets[low:high].T\n",
    "        \n",
    "        #Forward step\n",
    "        pred=model.forward(input_batch)\n",
    "        \n",
    "        #Computing the loss\n",
    "        loss_func=LossMSE()\n",
    "        loss=loss_func.forward(pred,target_batch)\n",
    "        \n",
    "        #Backward step\n",
    "        grad=loss_func.backward()\n",
    "        model.backward(grad)\n",
    "        \n",
    "        #Updating the loss accumulator\n",
    "        avg_loss=avg_loss+loss.item()\n",
    "    \n",
    "    #Dividing the accumulated batch losses to get the average loss of the SGD step\n",
    "    avg_loss=avg_loss/(input_size//batch_size+1)\n",
    "    \n",
    "    #Computing and recording the actual train and test loss and accuracy for plotting \n",
    "    pred=model.forward(train_input.T)\n",
    "    plot_data[0,epoch]=LossMSE().forward(pred,train_targets.T)\n",
    "    plot_data[1,epoch]=accuracy(pred,train_targets.T)\n",
    "    \n",
    "    pred=model.forward(test_input.T)\n",
    "    plot_data[2,epoch]=LossMSE().forward(pred,test_targets.T)\n",
    "    plot_data[3,epoch]=accuracy(pred,test_targets.T)\n",
    "    \n",
    "    #Printing the results of the current iteration\n",
    "    print(\"The average training loss at iteration {} is {}\".format(epoch+1,avg_loss),end='\\r')\n",
    "\n",
    "#Desabling the line rewriting    \n",
    "print('')\n",
    "\n",
    "#Computing the final training loss\n",
    "pred=model.forward(train_input.T)\n",
    "final_loss=LossMSE().forward(pred,train_targets.T)\n",
    "print(\"The final training loss is \", final_loss)\n",
    "\n",
    "#Computing the final test loss\n",
    "pred=model.forward(test_input.T)\n",
    "final_loss=LossMSE().forward(pred,test_targets.T)\n",
    "print(\"The test loss is \", final_loss)"
   ]
  },
  {
   "cell_type": "code",
   "execution_count": 13,
   "metadata": {},
   "outputs": [
    {
     "name": "stdout",
     "output_type": "stream",
     "text": [
      "The test accuracy is  tensor(0.9920)\n"
     ]
    }
   ],
   "source": [
    "#Printing the test accuracy to check the actual classification capabilities of the model \n",
    "print(\"The test accuracy is \", accuracy(pred,test_targets.T))"
   ]
  },
  {
   "cell_type": "code",
   "execution_count": 14,
   "metadata": {},
   "outputs": [
    {
     "data": {
      "image/png": "[encoded data removed]",
      "text/plain": [
       "<Figure size 1080x576 with 1 Axes>"
      ]
     },
     "metadata": {
      "needs_background": "light"
     },
     "output_type": "display_data"
    }
   ],
   "source": [
    "#Plotting the evolution of the train and test accuracy\n",
    "\n",
    "#Setting-up the plot\n",
    "plt.figure(figsize=(15,8))\n",
    "\n",
    "#Drawing and labeling the curves\n",
    "plt.plot(plot_data[0], label=\"Training Loss\")\n",
    "plt.plot(plot_data[2], label=\"Test Loss\")\n",
    "\n",
    "#Adding the title and axis labels\n",
    "plt.title('Train VS Test Loss')\n",
    "plt.ylabel('Loss')\n",
    "plt.xlabel('Iteration Number')\n",
    "plt.legend()\n",
    "\n",
    "#Saving the plot\n",
    "plt.savefig('loss.png')"
   ]
  },
  {
   "cell_type": "code",
   "execution_count": 15,
   "metadata": {},
   "outputs": [
    {
     "data": {
      "image/png": "[encoded data removed]",
      "text/plain": [
       "<Figure size 1080x576 with 1 Axes>"
      ]
     },
     "metadata": {
      "needs_background": "light"
     },
     "output_type": "display_data"
    }
   ],
   "source": [
    "#Plotting the evolution of the train and test accuracy\n",
    "\n",
    "#Setting-up the plot\n",
    "plt.figure(figsize=(15,8))\n",
    "\n",
    "#Drawing and labeling the curves\n",
    "plt.plot(100*plot_data[1], label=\"Train Accuracy\")\n",
    "plt.plot(100*plot_data[3], label=\"Test Accuracy\")\n",
    "\n",
    "#Adding the title and axis labels\n",
    "plt.title('Train VS Test Accuracy')\n",
    "plt.ylabel('Accuracy (in %)')\n",
    "plt.xlabel('Iteration Number')\n",
    "plt.legend()\n",
    "\n",
    "#Saving the plot\n",
    "plt.savefig('accuracy.png')"
   ]
  },
  {
   "cell_type": "markdown",
   "metadata": {},
   "source": [
    "### Global Performance Analysis"
   ]
  },
  {
   "cell_type": "code",
   "execution_count": 16,
   "metadata": {},
   "outputs": [
    {
     "name": "stdout",
     "output_type": "stream",
     "text": [
      "Sample Collection:\n",
      "Sample collection 100.00% done.\n",
      "Mean Estimator Generation...\n",
      "Estimating The Confidence Interval...\n",
      "The interval [98.55,98.63] contains the average performance with probability 99.0%.\n",
      "Mean Estimator Generation...\n",
      "Estimating The Confidence Interval...\n",
      "The interval [0.53,0.59] contains the standard deviation of the performance with probability 99.0%\n"
     ]
    }
   ],
   "source": [
    "# Bootstrap resampling to compute a confidence interval for the mean performance\n",
    "\n",
    "#Setting a seed for reproducibility\n",
    "torch.manual_seed(0)\n",
    "\n",
    "#Useful constants\n",
    "input_size=1000\n",
    "batch_size=25 #Good tradoff, gives high convergence speed\n",
    "epochs=4000 #High number, gives enough time for the model to converge\n",
    "gamma=0.01 # Learning rate shared by all 'Linear' modules\n",
    "sample_num=110 # Number of samples to collect\n",
    "accuracies=torch.empty(sample_num) #Used to collect the final performance of the trained models\n",
    "est_num=10**6 #Number of bootstrap mean performance estimators generated\n",
    "estimators=torch.empty(est_num,1) #Used to collect the bootstrap mean performance estimations\n",
    "est_sample_num=100 #Number of samples used per bootstrap estimator\n",
    "conf_lvl=0.99 #Confidence level of the bootstrap interval\n",
    "\n",
    "#Starting sample collection\n",
    "print('Sample Collection:')\n",
    "\n",
    "#Sample collection\n",
    "for sample in range(sample_num):\n",
    "    \n",
    "    #Generating our train and test datasets\n",
    "    train_input, train_targets = dataset_generator(input_size)\n",
    "    test_input, test_targets = dataset_generator(input_size)\n",
    "\n",
    "    #Initializing our model\n",
    "    model=Sequential([Linear(2,25,gamma),Tanh(),Linear(25,25,gamma),Tanh(),Linear(25,25,gamma),Tanh(),Linear(25,2,gamma)])\n",
    "\n",
    "    #Training our model\n",
    "    for epoch in range(epochs):\n",
    "\n",
    "        #Running an SGD iteration\n",
    "        for b in range(math.ceil(input_size/batch_size)):\n",
    "\n",
    "            #Computing the lower and upper indices corresponding to the current batch\n",
    "            low=b*batch_size\n",
    "            high=min((b+1)*batch_size,input_size)\n",
    "\n",
    "            #Getting the input and target batches\n",
    "            input_batch=train_input[low:high].T\n",
    "            target_batch=train_targets[low:high].T\n",
    "\n",
    "            #Forward step\n",
    "            pred=model.forward(input_batch)\n",
    "            loss_func=LossMSE()\n",
    "            loss_func.forward(pred,target_batch)\n",
    "\n",
    "            #Backward step\n",
    "            grad=loss_func.backward()\n",
    "            model.backward(grad)\n",
    "\n",
    "    #Computing the final test loss and saving it\n",
    "    pred=model.forward(test_input.T)\n",
    "    LossMSE().forward(pred,test_targets.T)\n",
    "    accuracies[sample]=accuracy(pred,test_targets.T)\n",
    "    print('Sample collection {:.2f}% done.'.format(100*(sample+1)/sample_num),end='\\r')\n",
    "    \n",
    "#Disabling line rewriting   \n",
    "print('')    \n",
    "\n",
    "#Starting the mean estimator generation\n",
    "print('Mean Estimator Generation...')\n",
    "\n",
    "#Computing the mean estimators\n",
    "for est in range(est_num):\n",
    "    \n",
    "    #Generating est_sample_num random indices to select samples\n",
    "    indices=torch.randperm(sample_num)[:est_sample_num]\n",
    "    \n",
    "    #Computing a single bootstrap estimator using the random indices\n",
    "    estimators[est]=torch.mean(accuracies[indices])\n",
    "    \n",
    "#Confidence interval estimation\n",
    "print('Estimating The Confidence Interval...')\n",
    "    \n",
    "#Sorting our estimators\n",
    "estimators=torch.sort(estimators,0)[0]\n",
    "\n",
    "#Estimating the low and high bound of our confidence interval\n",
    "low_index=math.ceil((est_num-1)*(1-conf_lvl)/2)\n",
    "high_index=math.floor((est_num-1)*(1+conf_lvl)/2)\n",
    "low=estimators[low_index].data[0]\n",
    "high=estimators[high_index].data[0]\n",
    "\n",
    "#Estimating the confidence interval of the mean performance\n",
    "print('The interval [{:.2f},{:.2f}] contains the average performance with probability {}%.'.format(100*low,100*high,100*conf_lvl))\n",
    "\n",
    "\n",
    "#Starting the std estimator generation\n",
    "print('Mean Estimator Generation...')\n",
    "\n",
    "#Computing the std estimators\n",
    "for est in range(est_num):\n",
    "    \n",
    "    #Generating est_sample_num random indices to select samples\n",
    "    indices=torch.randperm(sample_num)[:est_sample_num]\n",
    "    \n",
    "    #Computing a single bootstrap estimator using the random indices\n",
    "    estimators[est]=torch.std(accuracies[indices])\n",
    "    \n",
    "#Confidence interval estimation\n",
    "print('Estimating The Confidence Interval...')\n",
    "    \n",
    "#Sorting our estimators\n",
    "estimators=torch.sort(estimators,0)[0]\n",
    "\n",
    "#Estimating the low and high bound of our confidence interval\n",
    "low_index=math.ceil((est_num-1)*(1-conf_lvl)/2)\n",
    "high_index=math.floor((est_num-1)*(1+conf_lvl)/2)\n",
    "low=estimators[low_index].data[0]\n",
    "high=estimators[high_index].data[0]\n",
    "\n",
    "#Estimating the confidence interval of the std of the performance\n",
    "print('The interval [{:.2f},{:.2f}] contains the standard deviation of the performance with probability {}%.'.format(100*low,100*high,100*conf_lvl))"
   ]
  }
 ],
 "metadata": {
  "kernelspec": {
   "display_name": "Python 3",
   "language": "python",
   "name": "python3"
  },
  "language_info": {
   "codemirror_mode": {
    "name": "ipython",
    "version": 3
   },
   "file_extension": ".py",
   "mimetype": "text/x-python",
   "name": "python",
   "nbconvert_exporter": "python",
   "pygments_lexer": "ipython3",
   "version": "3.6.5"
  }
 },
 "nbformat": 4,
 "nbformat_minor": 2
}
